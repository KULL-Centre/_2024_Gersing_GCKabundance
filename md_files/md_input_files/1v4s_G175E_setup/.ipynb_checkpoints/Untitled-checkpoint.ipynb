{
 "cells": [
  {
   "cell_type": "code",
   "execution_count": 95,
   "id": "25a76bf8",
   "metadata": {},
   "outputs": [],
   "source": [
    "### update .gro file with Na ion information\n",
    "\n",
    "# open file\n",
    "with open('processed_original.gro', 'r') as f:\n",
    "    lines = f.readlines()\n",
    "    \n",
    "# get total number of atoms and add 1    \n",
    "atoms_total = int(lines[1][1:-1]) + 1\n",
    "atoms_total_str = f' {atoms_total}\\n'\n",
    "\n",
    "# update total number of atoms\n",
    "lines[1] = atoms_total_str\n",
    "\n",
    "# get last line of file\n",
    "lines_last = lines[-1]\n",
    "\n",
    "# add ion coordinates\n",
    "NA_wt = f'  600NA      NA {atoms_total}   3.687   1.059   4.647\\n'\n",
    "lines[-1] = NA_wt\n",
    "\n",
    "# append original last line\n",
    "lines.append(lines_last)\n",
    "\n",
    "# write new file\n",
    "f = open(\"processed.gro\", \"a\")\n",
    "f.writelines(lines)\n",
    "f.close()\n",
    "\n",
    "### update .top file with Na ion information\n",
    "\n",
    "with open('topol.top') as f:\n",
    "    lines = f.readlines()\n",
    "    \n",
    "lines.append('NA                  1\\n')\n",
    "\n",
    "f = open(\"topol.top\", \"a\")\n",
    "f.writelines(lines)\n",
    "f.close()"
   ]
  },
  {
   "cell_type": "code",
   "execution_count": 15,
   "id": "774ecbde",
   "metadata": {},
   "outputs": [],
   "source": [
    "with open('topol_original.top') as f:\n",
    "    lines = f.readlines()"
   ]
  },
  {
   "cell_type": "code",
   "execution_count": 18,
   "id": "dd8dabe6",
   "metadata": {},
   "outputs": [
    {
     "data": {
      "text/plain": [
       "'\\n'"
      ]
     },
     "execution_count": 18,
     "metadata": {},
     "output_type": "execute_result"
    }
   ],
   "source": [
    "lines[-21]"
   ]
  },
  {
   "cell_type": "code",
   "execution_count": 7,
   "id": "8a3a3b03",
   "metadata": {},
   "outputs": [
    {
     "data": {
      "text/plain": [
       "'\\n'"
      ]
     },
     "execution_count": 7,
     "metadata": {},
     "output_type": "execute_result"
    }
   ],
   "source": [
    "lines[-25]"
   ]
  },
  {
   "cell_type": "code",
   "execution_count": 13,
   "id": "513bd078",
   "metadata": {},
   "outputs": [],
   "source": [
    "lines[-21] = '\\n; Include Position restraint file (CA atoms) \\n#ifdef POSRES-CA \\n#include \"ca_posre.itp\" \\n#endif \\n \\n'"
   ]
  },
  {
   "cell_type": "code",
   "execution_count": 14,
   "id": "b00b8cc5",
   "metadata": {},
   "outputs": [],
   "source": [
    "f = open(\"topol_test2.top\", \"a\")\n",
    "f.writelines(lines)\n",
    "f.close()"
   ]
  },
  {
   "cell_type": "code",
   "execution_count": null,
   "id": "b419f730",
   "metadata": {},
   "outputs": [],
   "source": []
  }
 ],
 "metadata": {
  "kernelspec": {
   "display_name": "Python 3 (ipykernel)",
   "language": "python",
   "name": "python3"
  },
  "language_info": {
   "codemirror_mode": {
    "name": "ipython",
    "version": 3
   },
   "file_extension": ".py",
   "mimetype": "text/x-python",
   "name": "python",
   "nbconvert_exporter": "python",
   "pygments_lexer": "ipython3",
   "version": "3.9.10"
  }
 },
 "nbformat": 4,
 "nbformat_minor": 5
}
